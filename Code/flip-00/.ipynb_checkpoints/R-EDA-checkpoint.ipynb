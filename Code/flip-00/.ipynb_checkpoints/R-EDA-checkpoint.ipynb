{
 "cells": [
  {
   "cell_type": "code",
   "execution_count": 23,
   "metadata": {},
   "outputs": [
    {
     "name": "stderr",
     "output_type": "stream",
     "text": [
      "Parsed with column specification:\n",
      "cols(\n",
      "  date = col_character(),\n",
      "  date_block_num = col_double(),\n",
      "  shop_id = col_double(),\n",
      "  item_id = col_double(),\n",
      "  item_price = col_double(),\n",
      "  item_cnt_day = col_double()\n",
      ")\n"
     ]
    },
    {
     "data": {
      "text/html": [
       "<table>\n",
       "<thead><tr><th scope=col>date</th><th scope=col>date_block_num</th><th scope=col>shop_id</th><th scope=col>item_id</th><th scope=col>item_price</th><th scope=col>item_cnt_day</th></tr></thead>\n",
       "<tbody>\n",
       "\t<tr><td>02.01.2013</td><td>0         </td><td>59        </td><td>22154     </td><td> 999.00   </td><td> 1        </td></tr>\n",
       "\t<tr><td>03.01.2013</td><td>0         </td><td>25        </td><td> 2552     </td><td> 899.00   </td><td> 1        </td></tr>\n",
       "\t<tr><td>05.01.2013</td><td>0         </td><td>25        </td><td> 2552     </td><td> 899.00   </td><td>-1        </td></tr>\n",
       "\t<tr><td>06.01.2013</td><td>0         </td><td>25        </td><td> 2554     </td><td>1709.05   </td><td> 1        </td></tr>\n",
       "\t<tr><td>15.01.2013</td><td>0         </td><td>25        </td><td> 2555     </td><td>1099.00   </td><td> 1        </td></tr>\n",
       "\t<tr><td>10.01.2013</td><td>0         </td><td>25        </td><td> 2564     </td><td> 349.00   </td><td> 1        </td></tr>\n",
       "</tbody>\n",
       "</table>\n"
      ],
      "text/latex": [
       "\\begin{tabular}{r|llllll}\n",
       " date & date\\_block\\_num & shop\\_id & item\\_id & item\\_price & item\\_cnt\\_day\\\\\n",
       "\\hline\n",
       "\t 02.01.2013 & 0          & 59         & 22154      &  999.00    &  1        \\\\\n",
       "\t 03.01.2013 & 0          & 25         &  2552      &  899.00    &  1        \\\\\n",
       "\t 05.01.2013 & 0          & 25         &  2552      &  899.00    & -1        \\\\\n",
       "\t 06.01.2013 & 0          & 25         &  2554      & 1709.05    &  1        \\\\\n",
       "\t 15.01.2013 & 0          & 25         &  2555      & 1099.00    &  1        \\\\\n",
       "\t 10.01.2013 & 0          & 25         &  2564      &  349.00    &  1        \\\\\n",
       "\\end{tabular}\n"
      ],
      "text/markdown": [
       "\n",
       "| date | date_block_num | shop_id | item_id | item_price | item_cnt_day |\n",
       "|---|---|---|---|---|---|\n",
       "| 02.01.2013 | 0          | 59         | 22154      |  999.00    |  1         |\n",
       "| 03.01.2013 | 0          | 25         |  2552      |  899.00    |  1         |\n",
       "| 05.01.2013 | 0          | 25         |  2552      |  899.00    | -1         |\n",
       "| 06.01.2013 | 0          | 25         |  2554      | 1709.05    |  1         |\n",
       "| 15.01.2013 | 0          | 25         |  2555      | 1099.00    |  1         |\n",
       "| 10.01.2013 | 0          | 25         |  2564      |  349.00    |  1         |\n",
       "\n"
      ],
      "text/plain": [
       "  date       date_block_num shop_id item_id item_price item_cnt_day\n",
       "1 02.01.2013 0              59      22154    999.00     1          \n",
       "2 03.01.2013 0              25       2552    899.00     1          \n",
       "3 05.01.2013 0              25       2552    899.00    -1          \n",
       "4 06.01.2013 0              25       2554   1709.05     1          \n",
       "5 15.01.2013 0              25       2555   1099.00     1          \n",
       "6 10.01.2013 0              25       2564    349.00     1          "
      ]
     },
     "metadata": {},
     "output_type": "display_data"
    },
    {
     "name": "stderr",
     "output_type": "stream",
     "text": [
      "Parsed with column specification:\n",
      "cols(\n",
      "  item_name = col_character(),\n",
      "  item_id = col_double(),\n",
      "  item_category_id = col_double()\n",
      ")\n"
     ]
    },
    {
     "data": {
      "text/html": [
       "<table>\n",
       "<thead><tr><th scope=col>item_name</th><th scope=col>item_id</th><th scope=col>item_category_id</th></tr></thead>\n",
       "<tbody>\n",
       "\t<tr><td>! ВО ВЛАСТИ НАВАЖДЕНИЯ (ПЛАСТ.)         D                           </td><td>0                                                                   </td><td>40                                                                  </td></tr>\n",
       "\t<tr><td>!ABBYY FineReader 12 Professional Edition Full [PC, Цифровая версия]</td><td>1                                                                   </td><td>76                                                                  </td></tr>\n",
       "\t<tr><td>***В ЛУЧАХ СЛАВЫ   (UNV)                    D                       </td><td>2                                                                   </td><td>40                                                                  </td></tr>\n",
       "\t<tr><td>***ГОЛУБАЯ ВОЛНА  (Univ)                      D                     </td><td>3                                                                   </td><td>40                                                                  </td></tr>\n",
       "\t<tr><td>***КОРОБКА (СТЕКЛО)                       D                         </td><td>4                                                                   </td><td>40                                                                  </td></tr>\n",
       "\t<tr><td>***НОВЫЕ АМЕРИКАНСКИЕ ГРАФФИТИ  (UNI)             D                 </td><td>5                                                                   </td><td>40                                                                  </td></tr>\n",
       "</tbody>\n",
       "</table>\n"
      ],
      "text/latex": [
       "\\begin{tabular}{r|lll}\n",
       " item\\_name & item\\_id & item\\_category\\_id\\\\\n",
       "\\hline\n",
       "\t ! ВО ВЛАСТИ НАВАЖДЕНИЯ (ПЛАСТ.)         D                            & 0                                                                    & 40                                                                  \\\\\n",
       "\t !ABBYY FineReader 12 Professional Edition Full {[}PC, Цифровая версия{]} & 1                                                                        & 76                                                                      \\\\\n",
       "\t ***В ЛУЧАХ СЛАВЫ   (UNV)                    D                        & 2                                                                    & 40                                                                  \\\\\n",
       "\t ***ГОЛУБАЯ ВОЛНА  (Univ)                      D                      & 3                                                                    & 40                                                                  \\\\\n",
       "\t ***КОРОБКА (СТЕКЛО)                       D                          & 4                                                                    & 40                                                                  \\\\\n",
       "\t ***НОВЫЕ АМЕРИКАНСКИЕ ГРАФФИТИ  (UNI)             D                  & 5                                                                    & 40                                                                  \\\\\n",
       "\\end{tabular}\n"
      ],
      "text/markdown": [
       "\n",
       "| item_name | item_id | item_category_id |\n",
       "|---|---|---|\n",
       "| ! ВО ВЛАСТИ НАВАЖДЕНИЯ (ПЛАСТ.)         D                            | 0                                                                    | 40                                                                   |\n",
       "| !ABBYY FineReader 12 Professional Edition Full [PC, Цифровая версия] | 1                                                                    | 76                                                                   |\n",
       "| ***В ЛУЧАХ СЛАВЫ   (UNV)                    D                        | 2                                                                    | 40                                                                   |\n",
       "| ***ГОЛУБАЯ ВОЛНА  (Univ)                      D                      | 3                                                                    | 40                                                                   |\n",
       "| ***КОРОБКА (СТЕКЛО)                       D                          | 4                                                                    | 40                                                                   |\n",
       "| ***НОВЫЕ АМЕРИКАНСКИЕ ГРАФФИТИ  (UNI)             D                  | 5                                                                    | 40                                                                   |\n",
       "\n"
      ],
      "text/plain": [
       "  item_name                                                            item_id\n",
       "1 ! ВО ВЛАСТИ НАВАЖДЕНИЯ (ПЛАСТ.)         D                            0      \n",
       "2 !ABBYY FineReader 12 Professional Edition Full [PC, Цифровая версия] 1      \n",
       "3 ***В ЛУЧАХ СЛАВЫ   (UNV)                    D                        2      \n",
       "4 ***ГОЛУБАЯ ВОЛНА  (Univ)                      D                      3      \n",
       "5 ***КОРОБКА (СТЕКЛО)                       D                          4      \n",
       "6 ***НОВЫЕ АМЕРИКАНСКИЕ ГРАФФИТИ  (UNI)             D                  5      \n",
       "  item_category_id\n",
       "1 40              \n",
       "2 76              \n",
       "3 40              \n",
       "4 40              \n",
       "5 40              \n",
       "6 40              "
      ]
     },
     "metadata": {},
     "output_type": "display_data"
    },
    {
     "name": "stdout",
     "output_type": "stream",
     "text": [
      "'data.frame':\t2935849 obs. of  7 variables:\n",
      " $ date            : chr  \"02.01.2013\" \"03.01.2013\" \"05.01.2013\" \"06.01.2013\" ...\n",
      " $ date_block_num  : num  0 0 0 0 0 0 0 0 0 0 ...\n",
      " $ shop_id         : num  59 25 25 25 25 25 25 25 25 25 ...\n",
      " $ item_id         : num  22154 2552 2552 2554 2555 ...\n",
      " $ item_price      : num  999 899 899 1709 1099 ...\n",
      " $ item_cnt_day    : num  1 1 -1 1 1 1 1 1 1 3 ...\n",
      " $ item_category_id: num  37 58 58 58 56 59 56 55 55 55 ...\n"
     ]
    },
    {
     "data": {
      "text/html": [
       "<table>\n",
       "<thead><tr><th scope=col>date</th><th scope=col>date_block_num</th><th scope=col>shop_id</th><th scope=col>item_id</th><th scope=col>item_price</th><th scope=col>item_cnt_day</th><th scope=col>item_category_id</th><th scope=col>year</th><th scope=col>month</th><th scope=col>day</th><th scope=col>weekday</th><th scope=col>item_cnt_month</th></tr></thead>\n",
       "<tbody>\n",
       "\t<tr><td>2013-01-02</td><td>0         </td><td>59        </td><td>22154     </td><td> 999.00   </td><td> 1        </td><td>37        </td><td>2013      </td><td>1         </td><td> 2        </td><td>星期三    </td><td>1         </td></tr>\n",
       "\t<tr><td>2013-01-03</td><td>0         </td><td>25        </td><td> 2552     </td><td> 899.00   </td><td> 1        </td><td>58        </td><td>2013      </td><td>1         </td><td> 3        </td><td>星期四    </td><td>0         </td></tr>\n",
       "\t<tr><td>2013-01-05</td><td>0         </td><td>25        </td><td> 2552     </td><td> 899.00   </td><td>-1        </td><td>58        </td><td>2013      </td><td>1         </td><td> 5        </td><td>星期六    </td><td>0         </td></tr>\n",
       "\t<tr><td>2013-01-06</td><td>0         </td><td>25        </td><td> 2554     </td><td>1709.05   </td><td> 1        </td><td>58        </td><td>2013      </td><td>1         </td><td> 6        </td><td>星期日    </td><td>1         </td></tr>\n",
       "\t<tr><td>2013-01-15</td><td>0         </td><td>25        </td><td> 2555     </td><td>1099.00   </td><td> 1        </td><td>56        </td><td>2013      </td><td>1         </td><td>15        </td><td>星期二    </td><td>1         </td></tr>\n",
       "\t<tr><td>2013-01-10</td><td>0         </td><td>25        </td><td> 2564     </td><td> 349.00   </td><td> 1        </td><td>59        </td><td>2013      </td><td>1         </td><td>10        </td><td>星期四    </td><td>1         </td></tr>\n",
       "</tbody>\n",
       "</table>\n"
      ],
      "text/latex": [
       "\\begin{tabular}{r|llllllllllll}\n",
       " date & date\\_block\\_num & shop\\_id & item\\_id & item\\_price & item\\_cnt\\_day & item\\_category\\_id & year & month & day & weekday & item\\_cnt\\_month\\\\\n",
       "\\hline\n",
       "\t 2013-01-02 & 0          & 59         & 22154      &  999.00    &  1         & 37         & 2013       & 1          &  2         & 星期三     & 1         \\\\\n",
       "\t 2013-01-03 & 0          & 25         &  2552      &  899.00    &  1         & 58         & 2013       & 1          &  3         & 星期四     & 0         \\\\\n",
       "\t 2013-01-05 & 0          & 25         &  2552      &  899.00    & -1         & 58         & 2013       & 1          &  5         & 星期六     & 0         \\\\\n",
       "\t 2013-01-06 & 0          & 25         &  2554      & 1709.05    &  1         & 58         & 2013       & 1          &  6         & 星期日     & 1         \\\\\n",
       "\t 2013-01-15 & 0          & 25         &  2555      & 1099.00    &  1         & 56         & 2013       & 1          & 15         & 星期二     & 1         \\\\\n",
       "\t 2013-01-10 & 0          & 25         &  2564      &  349.00    &  1         & 59         & 2013       & 1          & 10         & 星期四     & 1         \\\\\n",
       "\\end{tabular}\n"
      ],
      "text/markdown": [
       "\n",
       "| date | date_block_num | shop_id | item_id | item_price | item_cnt_day | item_category_id | year | month | day | weekday | item_cnt_month |\n",
       "|---|---|---|---|---|---|---|---|---|---|---|---|\n",
       "| 2013-01-02 | 0          | 59         | 22154      |  999.00    |  1         | 37         | 2013       | 1          |  2         | 星期三     | 1          |\n",
       "| 2013-01-03 | 0          | 25         |  2552      |  899.00    |  1         | 58         | 2013       | 1          |  3         | 星期四     | 0          |\n",
       "| 2013-01-05 | 0          | 25         |  2552      |  899.00    | -1         | 58         | 2013       | 1          |  5         | 星期六     | 0          |\n",
       "| 2013-01-06 | 0          | 25         |  2554      | 1709.05    |  1         | 58         | 2013       | 1          |  6         | 星期日     | 1          |\n",
       "| 2013-01-15 | 0          | 25         |  2555      | 1099.00    |  1         | 56         | 2013       | 1          | 15         | 星期二     | 1          |\n",
       "| 2013-01-10 | 0          | 25         |  2564      |  349.00    |  1         | 59         | 2013       | 1          | 10         | 星期四     | 1          |\n",
       "\n"
      ],
      "text/plain": [
       "  date       date_block_num shop_id item_id item_price item_cnt_day\n",
       "1 2013-01-02 0              59      22154    999.00     1          \n",
       "2 2013-01-03 0              25       2552    899.00     1          \n",
       "3 2013-01-05 0              25       2552    899.00    -1          \n",
       "4 2013-01-06 0              25       2554   1709.05     1          \n",
       "5 2013-01-15 0              25       2555   1099.00     1          \n",
       "6 2013-01-10 0              25       2564    349.00     1          \n",
       "  item_category_id year month day weekday item_cnt_month\n",
       "1 37               2013 1      2  星期三  1             \n",
       "2 58               2013 1      3  星期四  0             \n",
       "3 58               2013 1      5  星期六  0             \n",
       "4 58               2013 1      6  星期日  1             \n",
       "5 56               2013 1     15  星期二  1             \n",
       "6 59               2013 1     10  星期四  1             "
      ]
     },
     "metadata": {},
     "output_type": "display_data"
    },
    {
     "name": "stdout",
     "output_type": "stream",
     "text": [
      "Observations: 2,935,849\n",
      "Variables: 12\n",
      "$ date             <date> 2013-01-02, 2013-01-03, 2013-01-05, 2013-01-06, 2...\n",
      "$ date_block_num   <dbl> 0, 0, 0, 0, 0, 0, 0, 0, 0, 0, 0, 0, 0, 0, 0, 0, 0,...\n",
      "$ shop_id          <dbl> 59, 25, 25, 25, 25, 25, 25, 25, 25, 25, 25, 25, 25...\n",
      "$ item_id          <dbl> 22154, 2552, 2552, 2554, 2555, 2564, 2565, 2572, 2...\n",
      "$ item_price       <dbl> 999.00, 899.00, 899.00, 1709.05, 1099.00, 349.00, ...\n",
      "$ item_cnt_day     <dbl> 1, 1, -1, 1, 1, 1, 1, 1, 1, 3, 2, 1, 1, 2, 1, 2, 1...\n",
      "$ item_category_id <dbl> 37, 58, 58, 58, 56, 59, 56, 55, 55, 55, 55, 55, 55...\n",
      "$ year             <fct> 2013, 2013, 2013, 2013, 2013, 2013, 2013, 2013, 20...\n",
      "$ month            <dbl> 1, 1, 1, 1, 1, 1, 1, 1, 1, 1, 1, 1, 1, 1, 1, 1, 1,...\n",
      "$ day              <int> 2, 3, 5, 6, 15, 10, 2, 4, 11, 3, 3, 5, 7, 8, 10, 1...\n",
      "$ weekday          <fct> 星期三, 星期四, 星期六, 星期日, 星期二, 星期四, 星期三, 星期五, 星期五, 星期四, ...\n",
      "$ item_cnt_month   <dbl> 1, 0, 0, 1, 1, 1, 1, 2, 2, 3, 13, 13, 13, 13, 13, ...\n"
     ]
    },
    {
     "data": {
      "text/html": [
       "<table>\n",
       "<thead><tr><th></th><th scope=col>shop_id</th><th scope=col>item_id</th><th scope=col>item_price</th><th scope=col>item_cnt_day</th><th scope=col>item_category_id</th><th scope=col>item_cnt_month</th></tr></thead>\n",
       "<tbody>\n",
       "\t<tr><th scope=row>shop_id</th><td> 1.000000000</td><td> 0.02939639 </td><td>-0.024034051</td><td>-0.005229685</td><td> 0.01938046 </td><td>0.002999427 </td></tr>\n",
       "\t<tr><th scope=row>item_id</th><td> 0.029396392</td><td> 1.00000000 </td><td>-0.134104042</td><td> 0.016650304</td><td> 0.36943074 </td><td>0.066817127 </td></tr>\n",
       "\t<tr><th scope=row>item_price</th><td>-0.024034051</td><td>-0.13410404 </td><td> 1.000000000</td><td> 0.011196625</td><td>-0.25355416 </td><td>0.002514264 </td></tr>\n",
       "\t<tr><th scope=row>item_cnt_day</th><td>-0.005229685</td><td> 0.01665030 </td><td> 0.011196625</td><td> 1.000000000</td><td> 0.01476792 </td><td>0.435903895 </td></tr>\n",
       "\t<tr><th scope=row>item_category_id</th><td> 0.019380462</td><td> 0.36943074 </td><td>-0.253554162</td><td> 0.014767919</td><td> 1.00000000 </td><td>0.063476393 </td></tr>\n",
       "\t<tr><th scope=row>item_cnt_month</th><td> 0.002999427</td><td> 0.06681713 </td><td> 0.002514264</td><td> 0.435903895</td><td> 0.06347639 </td><td>1.000000000 </td></tr>\n",
       "</tbody>\n",
       "</table>\n"
      ],
      "text/latex": [
       "\\begin{tabular}{r|llllll}\n",
       "  & shop\\_id & item\\_id & item\\_price & item\\_cnt\\_day & item\\_category\\_id & item\\_cnt\\_month\\\\\n",
       "\\hline\n",
       "\tshop\\_id &  1.000000000 &  0.02939639  & -0.024034051 & -0.005229685 &  0.01938046  & 0.002999427 \\\\\n",
       "\titem\\_id &  0.029396392 &  1.00000000  & -0.134104042 &  0.016650304 &  0.36943074  & 0.066817127 \\\\\n",
       "\titem\\_price & -0.024034051 & -0.13410404  &  1.000000000 &  0.011196625 & -0.25355416  & 0.002514264 \\\\\n",
       "\titem\\_cnt\\_day & -0.005229685 &  0.01665030  &  0.011196625 &  1.000000000 &  0.01476792  & 0.435903895 \\\\\n",
       "\titem\\_category\\_id &  0.019380462 &  0.36943074  & -0.253554162 &  0.014767919 &  1.00000000  & 0.063476393 \\\\\n",
       "\titem\\_cnt\\_month &  0.002999427 &  0.06681713  &  0.002514264 &  0.435903895 &  0.06347639  & 1.000000000 \\\\\n",
       "\\end{tabular}\n"
      ],
      "text/markdown": [
       "\n",
       "| <!--/--> | shop_id | item_id | item_price | item_cnt_day | item_category_id | item_cnt_month |\n",
       "|---|---|---|---|---|---|---|\n",
       "| shop_id |  1.000000000 |  0.02939639  | -0.024034051 | -0.005229685 |  0.01938046  | 0.002999427  |\n",
       "| item_id |  0.029396392 |  1.00000000  | -0.134104042 |  0.016650304 |  0.36943074  | 0.066817127  |\n",
       "| item_price | -0.024034051 | -0.13410404  |  1.000000000 |  0.011196625 | -0.25355416  | 0.002514264  |\n",
       "| item_cnt_day | -0.005229685 |  0.01665030  |  0.011196625 |  1.000000000 |  0.01476792  | 0.435903895  |\n",
       "| item_category_id |  0.019380462 |  0.36943074  | -0.253554162 |  0.014767919 |  1.00000000  | 0.063476393  |\n",
       "| item_cnt_month |  0.002999427 |  0.06681713  |  0.002514264 |  0.435903895 |  0.06347639  | 1.000000000  |\n",
       "\n"
      ],
      "text/plain": [
       "                 shop_id      item_id     item_price   item_cnt_day\n",
       "shop_id           1.000000000  0.02939639 -0.024034051 -0.005229685\n",
       "item_id           0.029396392  1.00000000 -0.134104042  0.016650304\n",
       "item_price       -0.024034051 -0.13410404  1.000000000  0.011196625\n",
       "item_cnt_day     -0.005229685  0.01665030  0.011196625  1.000000000\n",
       "item_category_id  0.019380462  0.36943074 -0.253554162  0.014767919\n",
       "item_cnt_month    0.002999427  0.06681713  0.002514264  0.435903895\n",
       "                 item_category_id item_cnt_month\n",
       "shop_id           0.01938046      0.002999427   \n",
       "item_id           0.36943074      0.066817127   \n",
       "item_price       -0.25355416      0.002514264   \n",
       "item_cnt_day      0.01476792      0.435903895   \n",
       "item_category_id  1.00000000      0.063476393   \n",
       "item_cnt_month    0.06347639      1.000000000   "
      ]
     },
     "metadata": {},
     "output_type": "display_data"
    },
    {
     "name": "stderr",
     "output_type": "stream",
     "text": [
      "Saving 6.67 x 6.67 in image\n"
     ]
    },
    {
     "data": {
      "image/png": "[encoded data removed]",
      "text/plain": [
       "plot without title"
      ]
     },
     "metadata": {},
     "output_type": "display_data"
    }
   ],
   "source": [
    "library(readr)\n",
    "library(data.table)\n",
    "library(datasets)\n",
    "library(dplyr)\n",
    "library(lubridate)\n",
    "library(ggplot2)\n",
    "library(ggthemes)\n",
    "library(plotly)\n",
    "library(Amelia)\n",
    "library(caTools)\n",
    "library(class)\n",
    "library(scales)\n",
    "\n",
    "dataset_sales_train <- read_csv(\"../Data/sales_train.csv\")\n",
    "head(dataset_sales_train)\n",
    "\n",
    "dataset_items <- read_csv(\"../Data/items.csv\")\n",
    "head(dataset_items)\n",
    "\n",
    "dataset_sales <- merge.data.frame(dataset_sales_train, dataset_items, by = c(\"item_id\"))\n",
    "\n",
    "dataset_sales <- dataset_sales_train %>% left_join(dataset_items, by = c(\"item_id\"))\n",
    "dataset_sales$item_name <- NULL\n",
    "\n",
    "rm(dataset_sales_train)\n",
    "rm(dataset_items)\n",
    "\n",
    "dataset_sales <- as.data.frame(dataset_sales)\n",
    "\n",
    "str(dataset_sales)\n",
    "dataset_sales$date <- dmy(dataset_sales$date)\n",
    "dataset_sales$year <- year(dataset_sales$date)\n",
    "dataset_sales$month <- month(dataset_sales$date)\n",
    "dataset_sales$day <- day(dataset_sales$date)\n",
    "dataset_sales$weekday <- weekdays(dataset_sales$date)\n",
    "dataset_sales$year <- as.factor(dataset_sales$year)\n",
    "dataset_sales$weekday <- as.factor(dataset_sales$weekday)\n",
    "dataset_sales_item_cnt_month <-\n",
    "  dataset_sales %>% group_by(year, month, shop_id, item_id) %>% summarise(item_cnt_month = sum(item_cnt_day)) %>% ungroup()\n",
    "dataset_sales <-\n",
    "  dataset_sales %>% left_join(dataset_sales_item_cnt_month,\n",
    "                              by = c(\"year\", \"month\", \"shop_id\", \"item_id\"))\n",
    "head(dataset_sales)\n",
    "rm(dataset_sales_item_cnt_month)\n",
    "glimpse(dataset_sales)\n",
    "\n",
    "\n",
    "num.cols <- sapply(dataset_sales, is.numeric)\n",
    "dataset_sales_numcols <- dataset_sales[, num.cols]\n",
    "dataset_sales_numcols$date_block_num <- NULL\n",
    "dataset_sales_numcols$month <- NULL\n",
    "dataset_sales_numcols$day <- NULL\n",
    "cor(dataset_sales_numcols)\n",
    "\n",
    "# png(\"corr.png\") \n",
    "melted_corr <- melt(cor(dataset_sales_numcols))\n",
    "ggplot(data = melted_corr, aes(x = Var1, y = Var2, fill = value)) + \n",
    "  geom_tile() + \n",
    "  scale_fill_gradient(low=\"grey\", high=\"darkred\") + \n",
    "  geom_text(aes(x = Var1, y = Var2, label = round(value, 2)), size = 4) + \n",
    "  labs(title = \"Correlation Matrix\", x = \"Numeric Column(s)\", y = \"Numeric Column(s)\", fill = \"Coefficient Range\") + \n",
    "  theme(axis.text.x=element_text(angle=45, vjust=0.5))\n",
    "# dev.off()\n",
    "ggsave(\"corr.png\", dpi=300)\n",
    "rm(num.cols)\n",
    "rm(dataset_sales_numcols)\n",
    "rm(melted_corr)\n",
    "\n",
    "\n",
    "# install.packages(\"caTools\")"
   ]
  },
  {
   "cell_type": "code",
   "execution_count": null,
   "metadata": {},
   "outputs": [],
   "source": []
  }
 ],
 "metadata": {
  "kernelspec": {
   "display_name": "R",
   "language": "R",
   "name": "ir"
  },
  "language_info": {
   "codemirror_mode": "r",
   "file_extension": ".r",
   "mimetype": "text/x-r-source",
   "name": "R",
   "pygments_lexer": "r",
   "version": "3.6.1"
  }
 },
 "nbformat": 4,
 "nbformat_minor": 2
}
